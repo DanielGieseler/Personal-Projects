{
 "cells": [
  {
   "cell_type": "markdown",
   "metadata": {},
   "source": [
    "# Music Theory"
   ]
  },
  {
   "cell_type": "markdown",
   "metadata": {},
   "source": [
    "TO DO:\n",
    "\n",
    "    a) allow for more extension (i.e 9, 13...) in chord2notes\n",
    "    b) note string notation parser (quality and extension together?)\n",
    "    c) arpeggio for 3 and 4"
   ]
  },
  {
   "cell_type": "code",
   "execution_count": 1,
   "metadata": {},
   "outputs": [],
   "source": [
    "### Chromatic Scale: 12-tone of equal semitone temperament\n",
    "CHROMATIC = ['C', 'C#', 'D', 'D#', 'E', 'F', 'F#', 'G', 'G#', 'A', 'A#', 'B']\n",
    "## Heptatonic Scales: 7-tone\n",
    "SCALE_WEIGHTS = [0.5,0,0,0,0,0.5,0,0,0]\n",
    "SCALE_INTERVALS = {\n",
    "    # Diatonic Modes: 5 tones and 2 semitones, distance between semitones greater than 2 tones\n",
    "    'major':      [2,2,1,2,2,2,1], # I (or ionian)\n",
    "    'dorian':     [2,1,2,2,2,1,2], # II\n",
    "    'phrygian':   [1,2,2,2,1,2,2], # III\n",
    "    'lydian':     [2,2,2,1,2,2,1], # IV\n",
    "    'mixolydian': [2,2,1,2,2,1,2], # V\n",
    "    'minor':      [2,1,2,2,1,2,2], # VI (or aeolian)\n",
    "    'locrian':    [1,2,2,1,2,2,2], # VII\n",
    "    # Other heptatonics:\n",
    "    'melodic':    [2,1,2,2,2,2,1],\n",
    "    'harmonic':   [2,1,2,2,1,3,1]\n",
    "}\n",
    "\n",
    "def scale_generator(rootNote, scale = 'major'):\n",
    "    interval, root = SCALE_INTERVALS[scale], CHROMATIC.index(rootNote)\n",
    "    scaleIndexes = [(root + sum(interval[:i]))%12 for i in range(7)]\n",
    "    scaleNotes = [CHROMATIC[i] for i in scaleIndexes]\n",
    "    return scaleNotes"
   ]
  },
  {
   "cell_type": "code",
   "execution_count": 2,
   "metadata": {},
   "outputs": [
    {
     "data": {
      "text/plain": [
       "['B', 'C', 'D', 'E', 'F', 'G', 'A']"
      ]
     },
     "execution_count": 2,
     "metadata": {},
     "output_type": "execute_result"
    }
   ],
   "source": [
    "scale_generator('B', 'locrian')"
   ]
  },
  {
   "cell_type": "code",
   "execution_count": 3,
   "metadata": {},
   "outputs": [],
   "source": [
    "BASE_CHORD_INTERVAL = [0, 4, 7]\n",
    "TRIAD_INTERVALS = {\n",
    "    '':  [0,0,0],\n",
    "    'm': [0,-1,0],\n",
    "    '+': [0,0,1],\n",
    "    'o': [0,-1,-1]\n",
    "}\n",
    "\n",
    "EXTENSION_WEIGHTS = [0.9, 0.05, 0.05]\n",
    "EXTENSION_INTERVALS = {\n",
    "    '':     None,\n",
    "    '7':    3,\n",
    "    'maj7': 4\n",
    "}\n",
    "\n",
    "class Chord:\n",
    "    def __init__(self, root, triad = '', extension = '', octave = 4):\n",
    "        self.root = root\n",
    "        self.triad = triad\n",
    "        self.extension = extension\n",
    "        self.octave = octave\n",
    "        self.length = 3 if extension == '' else 4\n",
    "    \n",
    "    def __repr__(self):\n",
    "        return self.root + self.triad + self.extension\n",
    "    \n",
    "    def indexes(self):\n",
    "        root = CHROMATIC.index(self.root)\n",
    "        triad = TRIAD_INTERVALS[self.triad]\n",
    "        extension = EXTENSION_INTERVALS[self.extension]\n",
    "        chordIndexes = [(root + triad[i] + BASE_CHORD_INTERVAL[i])%12 for i in range(3)]\n",
    "        if extension != None:\n",
    "            chordIndexes = chordIndexes + [(chordIndexes[-1] + extension)%12]\n",
    "        return chordIndexes\n",
    "    \n",
    "    def notes(self):\n",
    "        chordIndexes = self.indexes()\n",
    "        chordNotes = [CHROMATIC[i] for i in chordIndexes]\n",
    "        return chordNotes\n",
    "    \n",
    "    def octaves(self):\n",
    "        chordIndexes = self.indexes()\n",
    "        chordOctaves = [self.octave]\n",
    "        for i in range(len(chordIndexes)-1):\n",
    "            if chordIndexes[i+1] < chordIndexes[i]:\n",
    "                chordOctaves.append(self.octave + 1)\n",
    "            else:\n",
    "                chordOctaves.append(self.octave)\n",
    "        return chordOctaves"
   ]
  },
  {
   "cell_type": "code",
   "execution_count": 4,
   "metadata": {},
   "outputs": [],
   "source": [
    "c = Chord('D', 'm', '7')"
   ]
  },
  {
   "cell_type": "code",
   "execution_count": 5,
   "metadata": {},
   "outputs": [
    {
     "data": {
      "text/plain": [
       "Dm7"
      ]
     },
     "execution_count": 5,
     "metadata": {},
     "output_type": "execute_result"
    }
   ],
   "source": [
    "c"
   ]
  },
  {
   "cell_type": "code",
   "execution_count": 6,
   "metadata": {},
   "outputs": [
    {
     "data": {
      "text/plain": [
       "[2, 5, 9, 0]"
      ]
     },
     "execution_count": 6,
     "metadata": {},
     "output_type": "execute_result"
    }
   ],
   "source": [
    "c.indexes()"
   ]
  },
  {
   "cell_type": "code",
   "execution_count": 7,
   "metadata": {},
   "outputs": [
    {
     "data": {
      "text/plain": [
       "['D', 'F', 'A', 'C']"
      ]
     },
     "execution_count": 7,
     "metadata": {},
     "output_type": "execute_result"
    }
   ],
   "source": [
    "c.notes()"
   ]
  },
  {
   "cell_type": "code",
   "execution_count": 8,
   "metadata": {},
   "outputs": [
    {
     "data": {
      "text/plain": [
       "[4, 4, 4, 5]"
      ]
     },
     "execution_count": 8,
     "metadata": {},
     "output_type": "execute_result"
    }
   ],
   "source": [
    "c.octaves()"
   ]
  },
  {
   "cell_type": "code",
   "execution_count": 9,
   "metadata": {},
   "outputs": [],
   "source": [
    "def notes2chord(notes):\n",
    "    notesIndexes = [CHROMATIC.index(n) for n in notes]\n",
    "    # Correcting Octaves\n",
    "    for i in range(2):\n",
    "        if notesIndexes[i+1] < notesIndexes[i]:\n",
    "            notesIndexes[i+1] += 12\n",
    "    triadIntervals = [notesIndexes[i] - BASE_CHORD_INTERVAL[i] - notesIndexes[0] for i in range(3)]\n",
    "    for triad in TRIAD_INTERVALS: # finding a match for the triad quality\n",
    "        if TRIAD_INTERVALS[triad] == triadIntervals:\n",
    "            return Chord(notes[0], triad)\n",
    "    else:\n",
    "        print('Chord not found.')\n",
    "        return None\n",
    "\n",
    "def harmonic_field(scale):\n",
    "    I_III_V_rule = [[scale[i], scale[(i+2)%7], scale[(i+4)%7]] for i in range(7)]\n",
    "    harmonicField = [notes2chord(notes) for notes in I_III_V_rule]\n",
    "    return harmonicField"
   ]
  },
  {
   "cell_type": "code",
   "execution_count": 10,
   "metadata": {},
   "outputs": [
    {
     "data": {
      "text/plain": [
       "[Cm, Do, D#, Fm, Gm, G#, A#]"
      ]
     },
     "execution_count": 10,
     "metadata": {},
     "output_type": "execute_result"
    }
   ],
   "source": [
    "scale = scale_generator('C', 'minor')\n",
    "hf = harmonic_field(scale)\n",
    "hf"
   ]
  },
  {
   "cell_type": "markdown",
   "metadata": {},
   "source": [
    "# Music Generation"
   ]
  },
  {
   "cell_type": "code",
   "execution_count": 11,
   "metadata": {},
   "outputs": [],
   "source": [
    "import random"
   ]
  },
  {
   "cell_type": "markdown",
   "metadata": {},
   "source": [
    "## Harmony"
   ]
  },
  {
   "cell_type": "code",
   "execution_count": 12,
   "metadata": {},
   "outputs": [],
   "source": [
    "def chord_progression(harmonicField, size, I_V_rule = True, addExtensions = False):\n",
    "    if I_V_rule:\n",
    "        CP = [0] + [random.randint(0,6) for _ in range(size - 2)] + [4]\n",
    "    else:\n",
    "        CP = [random.randint(0,6) for _ in range(size)]\n",
    "    roots = [harmonicField[i].root for i in CP]\n",
    "    triads = [harmonicField[i].triad for i in CP]\n",
    "    if addExtensions:\n",
    "        extensions = random.choices(list(EXTENSION_INTERVALS), EXTENSION_WEIGHTS, k = size)\n",
    "        chords = zip(roots, triads, extensions)\n",
    "    else:\n",
    "        chords = zip(roots, triads)\n",
    "    return [Chord(*args) for args in chords]"
   ]
  },
  {
   "cell_type": "code",
   "execution_count": 13,
   "metadata": {},
   "outputs": [
    {
     "data": {
      "text/plain": [
       "[B, G#m, G#m, F#]"
      ]
     },
     "execution_count": 13,
     "metadata": {},
     "output_type": "execute_result"
    }
   ],
   "source": [
    "hf = harmonic_field(scale_generator('B', 'major'))\n",
    "chord_progression(hf, 4)"
   ]
  },
  {
   "cell_type": "code",
   "execution_count": 14,
   "metadata": {},
   "outputs": [],
   "source": [
    "def arpeggio_generator(T, numberNotes, numberDivisions):\n",
    "    times = random.sample([i for i in range(1, numberDivisions)], k = numberNotes - 1)\n",
    "    times.sort()\n",
    "    times = [T*t/numberDivisions for t in times]\n",
    "    return [times[0]] + [times[i+1] - times[i] for i in range(numberNotes - 2)] + [T - times[-1]]"
   ]
  },
  {
   "cell_type": "code",
   "execution_count": 15,
   "metadata": {},
   "outputs": [
    {
     "name": "stdout",
     "output_type": "stream",
     "text": [
      "[0.15, 0.75, 0.9]\n"
     ]
    },
    {
     "data": {
      "text/plain": [
       "1.8"
      ]
     },
     "execution_count": 15,
     "metadata": {},
     "output_type": "execute_result"
    }
   ],
   "source": [
    "a = arpeggio_generator(1.8, 3, 12)\n",
    "print(a)\n",
    "sum(a)"
   ]
  },
  {
   "cell_type": "markdown",
   "metadata": {},
   "source": [
    "## Melody"
   ]
  },
  {
   "cell_type": "code",
   "execution_count": 16,
   "metadata": {},
   "outputs": [
    {
     "data": {
      "text/plain": [
       "['C', 'D', 'D#', 'F', 'G', 'G#', 'A#']"
      ]
     },
     "execution_count": 16,
     "metadata": {},
     "output_type": "execute_result"
    }
   ],
   "source": [
    "scale = scale_generator('C', 'minor')\n",
    "scale"
   ]
  },
  {
   "cell_type": "markdown",
   "metadata": {},
   "source": [
    "## Rhythm"
   ]
  },
  {
   "cell_type": "code",
   "execution_count": 17,
   "metadata": {},
   "outputs": [],
   "source": [
    "kick = 42\n",
    "hh = 37\n",
    "snare = 47\n",
    "\n",
    "drums = [\n",
    "    [\n",
    "        {'note':     [hh, kick, hh, hh, snare, hh],\n",
    "         'velocity': [80, 112, 80, 80, 80, 100, 80],\n",
    "         'time':     [0, 0.5, 0.4, 0, 0.5, 0.4]},\n",
    "        {'note':     [hh, kick, hh, hh, snare, hh, kick],\n",
    "         'velocity': [80, 112, 80, 80, 80, 100, 80, 112],\n",
    "         'time':     [0, 0.5, 0.4, 0, 0.5, 0.25, 0.15]}\n",
    "    ], [\n",
    "        {'note':     [hh, kick, hh, hh, snare, hh, kick],\n",
    "         'velocity': [80, 112, 80, 80, 100, 80, 80, 80],\n",
    "         'time':     [0, 0.45, 0.45, 0, 0.4, 0.05, 0.4, 0.05]},\n",
    "        {'note':     [hh, hh, kick, hh, snare, kick, kick, hh],\n",
    "         'velocity': [80, 80, 80, 80, 100, 80, 80, 80],\n",
    "         'time':     [0.45, 0, 0.45, 0, 0.3, 0.15, 0, 0.45]}\n",
    "    ], [\n",
    "        {'note':     [hh, kick, 40, hh, hh, snare, kick, hh],\n",
    "         'velocity': [80, 112, 80, 80, 80, 100, 80, 80],\n",
    "         'time':     [0, 0.225, 0.225, 0.45, 0, 0.4, 0.05, 0.45]},\n",
    "        {'note':     [hh, hh, kick, hh, snare, kick, hh],\n",
    "         'velocity': [80, 80, 80, 80, 100, 80, 80],\n",
    "         'time':     [0.45, 0.35, 0.10, 0, 0.4, 0.05, 0.45]}\n",
    "    ], [\n",
    "        {'note':     [hh, kick, hh, hh, snare, hh],\n",
    "         'velocity': [80, 112, 80, 80, 100, 80],\n",
    "         'time':     [0, 0.55, 0.35, 0, 0.55, 0.35]},\n",
    "        {'note':     [hh, kick, hh, hh, snare, kick, kick, hh],\n",
    "         'velocity': [80, 112, 80, 80, 100, 112, 112, 80],\n",
    "         'time':     [0, 0.55, 0.35, 0, 0.15, 0.15, 0.25, 0.35]}\n",
    "    ], [\n",
    "        {'note':     [0, hh, hh, hh, snare, hh, kick],\n",
    "         'velocity': [80, 80, 80, 80, 100, 80, 100],\n",
    "         'time':     [0.5, 0.05, 0.05, 0.3, 0.5, 0.3, 0.1]},\n",
    "        {'note':     [kick, hh, snare, kick, hh],\n",
    "         'velocity': [80, 100, 80, 100, 100],\n",
    "         'time':     [0.5, 0.4, 0.4, 0.1, 0.4]}\n",
    "    ]\n",
    "]\n",
    "\n",
    "def playDrumsprimitivo(bateria, drumflag):\n",
    "    pattern = drums[bateria][drumflag]\n",
    "    for note, velocity, wait in zip(pattern['note'], pattern['velocity'], pattern['time']):\n",
    "        midiout.send_message([0x90, note, velocity])\n",
    "        time.sleep(wait)"
   ]
  },
  {
   "cell_type": "markdown",
   "metadata": {},
   "source": [
    "# MIDI"
   ]
  },
  {
   "cell_type": "code",
   "execution_count": 18,
   "metadata": {},
   "outputs": [],
   "source": [
    "import mido"
   ]
  },
  {
   "cell_type": "code",
   "execution_count": 19,
   "metadata": {},
   "outputs": [
    {
     "name": "stdout",
     "output_type": "stream",
     "text": [
      "['Microsoft GS Wavetable Synth 0', 'loopMIDI Port 1', 'loopMIDI Port 1 2', 'loopMIDI Port 2 3']\n"
     ]
    }
   ],
   "source": [
    "import rtmidi\n",
    "\n",
    "midiout = rtmidi.MidiOut()\n",
    "available_ports = midiout.get_ports()\n",
    "\n",
    "# here we're printing the ports to check that we see the one that loopMidi created. \n",
    "# In the list we should see a port called \"loopMIDI port\".\n",
    "print(available_ports)\n",
    "\n",
    "# Attempt to open the port\n",
    "if available_ports:\n",
    "    midiout.open_port(1)\n",
    "else:\n",
    "    midiout.open_virtual_port(\"My virtual output\")"
   ]
  },
  {
   "cell_type": "code",
   "execution_count": 5,
   "metadata": {},
   "outputs": [],
   "source": [
    "# PORT SETUP\n",
    "def port_setup():\n",
    "    portNames = mido.get_output_names()\n",
    "    port = mido.open_output(portNames[1])\n",
    "    return port"
   ]
  },
  {
   "cell_type": "code",
   "execution_count": null,
   "metadata": {},
   "outputs": [],
   "source": [
    "# UTILITY\n",
    "port.close() # CAN'T OPEN THE SAME PORT TWICE. CLOSE IT FIRST.\n",
    "port.reset() # RESET ALL NOTS AND CONTROLLERS\n",
    "port.panic() # RESET ALL NOTES"
   ]
  },
  {
   "cell_type": "code",
   "execution_count": null,
   "metadata": {},
   "outputs": [],
   "source": [
    "# READ/PLAY MIDI FILES\n",
    "mid = mido.MidiFile('Wish_You_Were_Here_-_Pink_Floyd.mid')\n",
    "try:\n",
    "    for msg in mid.play():\n",
    "        port.send(msg)\n",
    "except KeyboardInterrupt:\n",
    "    port.reset()\n",
    "    pass"
   ]
  },
  {
   "cell_type": "code",
   "execution_count": 20,
   "metadata": {},
   "outputs": [],
   "source": [
    "def note2MIDI(note, octave = 4):\n",
    "    noteIndex = CHROMATIC.index(note)\n",
    "    # Return closest octave when out of bounds\n",
    "    if octave < -1:\n",
    "        return noteIndex\n",
    "    elif noteIndex > 7 and octave == 9 or octave > 9:\n",
    "        return noteIndex + 108 if noteIndex > 7 else noteIndex + 120\n",
    "    return CHROMATIC.index(note) + 12*(octave + 1)"
   ]
  },
  {
   "cell_type": "code",
   "execution_count": 21,
   "metadata": {},
   "outputs": [
    {
     "data": {
      "text/plain": [
       "117"
      ]
     },
     "execution_count": 21,
     "metadata": {},
     "output_type": "execute_result"
    }
   ],
   "source": [
    "note2MIDI('A', 11)"
   ]
  },
  {
   "cell_type": "markdown",
   "metadata": {},
   "source": [
    "# Main Program"
   ]
  },
  {
   "cell_type": "markdown",
   "metadata": {},
   "source": [
    "MUSIC IDEAS:\n",
    "\n",
    "    a) add conversation at the intro before beat starts\n",
    "    b) place melody in higher octaves (improve perception)\n",
    "    c) place mini delays in chords to sound more human"
   ]
  },
  {
   "cell_type": "code",
   "execution_count": 29,
   "metadata": {},
   "outputs": [
    {
     "ename": "KeyboardInterrupt",
     "evalue": "",
     "output_type": "error",
     "traceback": [
      "\u001b[1;31m---------------------------------------------------------------------------\u001b[0m",
      "\u001b[1;31mKeyboardInterrupt\u001b[0m                         Traceback (most recent call last)",
      "\u001b[1;32m<ipython-input-29-203f300557e5>\u001b[0m in \u001b[0;36m<module>\u001b[1;34m\u001b[0m\n\u001b[0;32m     61\u001b[0m         \u001b[0mt3\u001b[0m\u001b[1;33m.\u001b[0m\u001b[0mstart\u001b[0m\u001b[1;33m(\u001b[0m\u001b[1;33m)\u001b[0m\u001b[1;33m\u001b[0m\u001b[1;33m\u001b[0m\u001b[0m\n\u001b[0;32m     62\u001b[0m \u001b[1;33m\u001b[0m\u001b[0m\n\u001b[1;32m---> 63\u001b[1;33m         \u001b[0mt1\u001b[0m\u001b[1;33m.\u001b[0m\u001b[0mjoin\u001b[0m\u001b[1;33m(\u001b[0m\u001b[1;33m)\u001b[0m\u001b[1;33m\u001b[0m\u001b[1;33m\u001b[0m\u001b[0m\n\u001b[0m\u001b[0;32m     64\u001b[0m         \u001b[0mt2\u001b[0m\u001b[1;33m.\u001b[0m\u001b[0mjoin\u001b[0m\u001b[1;33m(\u001b[0m\u001b[1;33m)\u001b[0m\u001b[1;33m\u001b[0m\u001b[1;33m\u001b[0m\u001b[0m\n\u001b[0;32m     65\u001b[0m         \u001b[0mt3\u001b[0m\u001b[1;33m.\u001b[0m\u001b[0mjoin\u001b[0m\u001b[1;33m(\u001b[0m\u001b[1;33m)\u001b[0m\u001b[1;33m\u001b[0m\u001b[1;33m\u001b[0m\u001b[0m\n",
      "\u001b[1;32m~\\anaconda3\\lib\\threading.py\u001b[0m in \u001b[0;36mjoin\u001b[1;34m(self, timeout)\u001b[0m\n\u001b[0;32m   1042\u001b[0m \u001b[1;33m\u001b[0m\u001b[0m\n\u001b[0;32m   1043\u001b[0m         \u001b[1;32mif\u001b[0m \u001b[0mtimeout\u001b[0m \u001b[1;32mis\u001b[0m \u001b[1;32mNone\u001b[0m\u001b[1;33m:\u001b[0m\u001b[1;33m\u001b[0m\u001b[1;33m\u001b[0m\u001b[0m\n\u001b[1;32m-> 1044\u001b[1;33m             \u001b[0mself\u001b[0m\u001b[1;33m.\u001b[0m\u001b[0m_wait_for_tstate_lock\u001b[0m\u001b[1;33m(\u001b[0m\u001b[1;33m)\u001b[0m\u001b[1;33m\u001b[0m\u001b[1;33m\u001b[0m\u001b[0m\n\u001b[0m\u001b[0;32m   1045\u001b[0m         \u001b[1;32melse\u001b[0m\u001b[1;33m:\u001b[0m\u001b[1;33m\u001b[0m\u001b[1;33m\u001b[0m\u001b[0m\n\u001b[0;32m   1046\u001b[0m             \u001b[1;31m# the behavior of a negative timeout isn't documented, but\u001b[0m\u001b[1;33m\u001b[0m\u001b[1;33m\u001b[0m\u001b[1;33m\u001b[0m\u001b[0m\n",
      "\u001b[1;32m~\\anaconda3\\lib\\threading.py\u001b[0m in \u001b[0;36m_wait_for_tstate_lock\u001b[1;34m(self, block, timeout)\u001b[0m\n\u001b[0;32m   1058\u001b[0m         \u001b[1;32mif\u001b[0m \u001b[0mlock\u001b[0m \u001b[1;32mis\u001b[0m \u001b[1;32mNone\u001b[0m\u001b[1;33m:\u001b[0m  \u001b[1;31m# already determined that the C code is done\u001b[0m\u001b[1;33m\u001b[0m\u001b[1;33m\u001b[0m\u001b[0m\n\u001b[0;32m   1059\u001b[0m             \u001b[1;32massert\u001b[0m \u001b[0mself\u001b[0m\u001b[1;33m.\u001b[0m\u001b[0m_is_stopped\u001b[0m\u001b[1;33m\u001b[0m\u001b[1;33m\u001b[0m\u001b[0m\n\u001b[1;32m-> 1060\u001b[1;33m         \u001b[1;32melif\u001b[0m \u001b[0mlock\u001b[0m\u001b[1;33m.\u001b[0m\u001b[0macquire\u001b[0m\u001b[1;33m(\u001b[0m\u001b[0mblock\u001b[0m\u001b[1;33m,\u001b[0m \u001b[0mtimeout\u001b[0m\u001b[1;33m)\u001b[0m\u001b[1;33m:\u001b[0m\u001b[1;33m\u001b[0m\u001b[1;33m\u001b[0m\u001b[0m\n\u001b[0m\u001b[0;32m   1061\u001b[0m             \u001b[0mlock\u001b[0m\u001b[1;33m.\u001b[0m\u001b[0mrelease\u001b[0m\u001b[1;33m(\u001b[0m\u001b[1;33m)\u001b[0m\u001b[1;33m\u001b[0m\u001b[1;33m\u001b[0m\u001b[0m\n\u001b[0;32m   1062\u001b[0m             \u001b[0mself\u001b[0m\u001b[1;33m.\u001b[0m\u001b[0m_stop\u001b[0m\u001b[1;33m(\u001b[0m\u001b[1;33m)\u001b[0m\u001b[1;33m\u001b[0m\u001b[1;33m\u001b[0m\u001b[0m\n",
      "\u001b[1;31mKeyboardInterrupt\u001b[0m: "
     ]
    }
   ],
   "source": [
    "#port = port_setup()\n",
    "import threading\n",
    "import time\n",
    "T = 1.8\n",
    "PROGRESSION_SIZE = 4\n",
    "ARPEGGIO_DIVISIONS = 12\n",
    "\n",
    "\n",
    "while True:\n",
    "        \n",
    "    # SCALE\n",
    "    randomScale = random.choices(list(SCALE_INTERVALS), SCALE_WEIGHTS, k = 1)[0]\n",
    "    randomRoot = random.choice(CHROMATIC)\n",
    "    scale = scale_generator(randomRoot, randomScale)\n",
    "    harmonicField = harmonic_field(scale)\n",
    "\n",
    "    # HARMONY\n",
    "    instrumentHarmony = random.randint(8, 14) + 144\n",
    "    chordProgression = chord_progression(harmonicField, PROGRESSION_SIZE, I_V_rule = True, addExtensions = False)\n",
    "    arpeggio = arpeggio_generator(T, chordProgression[0].length, ARPEGGIO_DIVISIONS)\n",
    "    Ts = arpeggio_generator(T*4, PROGRESSION_SIZE, PROGRESSION_SIZE*2)\n",
    "    Ts = Ts if random.randint(0,1) == 1 else [T,T,T,T]\n",
    "    \n",
    "    # MELODY\n",
    "    instrumentMelody = random.randint(1,5) + 144\n",
    "    MELODY_DIVISIONS = 6\n",
    "    times = arpeggio_generator(T*2, MELODY_DIVISIONS*2, ARPEGGIO_DIVISIONS)\n",
    "    riffmelody = random.choices(scale, k = MELODY_DIVISIONS*4)\n",
    "    playflag = [random.randint(0,1) for _ in range(MELODY_DIVISIONS*4)]\n",
    "\n",
    "    # DRUMS\n",
    "    bateria = random.randint(0,4)\n",
    "    hh = random.randint(36,40)\n",
    "    kick = random.randint(41,45)\n",
    "    snare = random.randint(46,51)\n",
    "    \n",
    "    \n",
    "    # AMBIENCE\n",
    "    ambience = random.randint(36,49)\n",
    "\n",
    "    \n",
    "    # -------------------------- MUSIC STARTS-------------------------------#\n",
    "    # AMBIENCE\n",
    "    midiout.send_message([0x96, ambience, 100])\n",
    "    \n",
    "    # INTRO\n",
    "    arpeggiointro = arpeggio if random.randint(0,1) == 1 else [0, 0, T]\n",
    "    playHarmony(chordProgression, instrumentHarmony, arpeggiointro)\n",
    "    \n",
    "    # FIRST VERSE\n",
    "    for i in range(0,4):\n",
    "        arpeggiopv = arpeggio if random.randint(0,1) == 1 else [0, 0, T]\n",
    "        t1 = threading.Thread(target=playHarmony, args=(chordProgression, instrumentHarmony, arpeggiopv))\n",
    "        t2 = threading.Thread(target=playDrums, args=(chordProgression,bateria))\n",
    "        t3 = threading.Thread(target=playBass, args=(chordProgression,))\n",
    "        \n",
    "        t1.start()\n",
    "        t2.start()\n",
    "        t3.start()\n",
    "\n",
    "        t1.join()\n",
    "        t2.join()\n",
    "        t3.join()\n",
    "    \n",
    "    # PRIMEIRO CHORUS\n",
    "    for i in range(0,2):\n",
    "        arpeggiopr = arpeggio if random.randint(0,1) == 1 else [0, 0, T]\n",
    "        t1 = threading.Thread(target=playHarmony, args=(chordProgression, instrumentHarmony, arpeggiopr))\n",
    "        t2 = threading.Thread(target=playDrums, args=(chordProgression,bateria))\n",
    "        t3 = threading.Thread(target=playMelody, args=(chordProgression, instrumentMelody, arpeggiopr, scale, riffmelody, playflag, times))\n",
    "        t4 = threading.Thread(target=playBass, args=(chordProgression,))\n",
    "        \n",
    "        t1.start()\n",
    "        t2.start()\n",
    "        t3.start()\n",
    "        t4.start()\n",
    "        \n",
    "        t1.join()\n",
    "        t2.join()\n",
    "        t3.join()\n",
    "        t4.join()\n",
    "    \n",
    "    # SECOND VERSE\n",
    "    for i in range(0,4):\n",
    "        arpeggiosv = arpeggio if random.randint(0,1) == 1 else [0, 0, T]\n",
    "        t1 = threading.Thread(target=playHarmony, args=(chordProgression, instrumentHarmony, arpeggiosv))\n",
    "        t2 = threading.Thread(target=playDrums, args=(chordProgression,bateria))\n",
    "        t3 = threading.Thread(target=playBass, args=(chordProgression,))\n",
    "            \n",
    "        t1.start()\n",
    "        t2.start()\n",
    "        t3.start()\n",
    "        \n",
    "        t1.join()\n",
    "        t2.join()\n",
    "        t3.join()\n",
    "\n",
    "    # SECOND CHORUS\n",
    "    for i in range(0,2):\n",
    "        arpeggiosr = arpeggio if random.randint(0,1) == 1 else [0, 0, T]\n",
    "        t1 = threading.Thread(target=playHarmony, args=(chordProgression, instrumentHarmony, arpeggiosr))\n",
    "        t2 = threading.Thread(target=playDrums, args=(chordProgression,bateria))\n",
    "        t3 = threading.Thread(target=playMelody, args=(chordProgression, instrumentMelody, arpeggiopr, scale, riffmelody, playflag, times))\n",
    "        t4 = threading.Thread(target=playBass, args=(chordProgression,))\n",
    "        \n",
    "        t1.start()\n",
    "        t2.start()\n",
    "        t3.start()\n",
    "        t4.start()\n",
    "        \n",
    "        t1.join()\n",
    "        t2.join()\n",
    "        t3.join()\n",
    "        t4.join()\n",
    "        \n",
    "    #ACORDEFINAL\n",
    "    playHarmony([chordProgression[0]], instrumentMelody, [0,0,T])\n",
    "    \n",
    "    time.sleep(2)"
   ]
  },
  {
   "cell_type": "code",
   "execution_count": 22,
   "metadata": {},
   "outputs": [],
   "source": [
    "def playHarmony(chordProgression, instrument, arpeggio):\n",
    "    arpeggios = arpeggios_generator(arpeggio, Ts) \n",
    "    j = 0\n",
    "    silence = chordProgression[0]\n",
    "    for chord in chordProgression:\n",
    "        if chord == silence and (j != 0):\n",
    "            time.sleep(Ts[j])\n",
    "        else:\n",
    "            octaves = silence.octaves()\n",
    "            for i, note in enumerate(silence.notes()):\n",
    "                midiout.send_message([instrument, note2MIDI(note, octaves[i]), 0])\n",
    "            octaves = chord.octaves()\n",
    "            for i, note in enumerate(chord.notes()):\n",
    "                midiout.send_message([instrument, note2MIDI(note, octaves[i]), 112])\n",
    "                time.sleep(arpeggios[j][i])\n",
    "        j = j+1\n",
    "        silence = chord\n",
    "    \n",
    "    #silence all\n",
    "    j = 0\n",
    "    for chord in chordProgression:\n",
    "        for i, note in enumerate(chord.notes()):\n",
    "            midiout.send_message([instrument, note2MIDI(note, octaves[i]), 0])"
   ]
  },
  {
   "cell_type": "code",
   "execution_count": 43,
   "metadata": {},
   "outputs": [
    {
     "ename": "KeyboardInterrupt",
     "evalue": "",
     "output_type": "error",
     "traceback": [
      "\u001b[1;31m---------------------------------------------------------------------------\u001b[0m",
      "\u001b[1;31mKeyboardInterrupt\u001b[0m                         Traceback (most recent call last)",
      "\u001b[1;32m<ipython-input-43-26d7dfb8b09e>\u001b[0m in \u001b[0;36m<module>\u001b[1;34m\u001b[0m\n\u001b[1;32m----> 1\u001b[1;33m \u001b[0mplayHarmony\u001b[0m\u001b[1;33m(\u001b[0m\u001b[0mchordProgression\u001b[0m\u001b[1;33m,\u001b[0m \u001b[0minstrumentHarmony\u001b[0m\u001b[1;33m,\u001b[0m \u001b[0marpeggio\u001b[0m\u001b[1;33m)\u001b[0m\u001b[1;33m\u001b[0m\u001b[1;33m\u001b[0m\u001b[0m\n\u001b[0m",
      "\u001b[1;32m<ipython-input-34-310f062a647a>\u001b[0m in \u001b[0;36mplayHarmony\u001b[1;34m(chordProgression, instrument, arpeggio)\u001b[0m\n\u001b[0;32m     13\u001b[0m             \u001b[1;32mfor\u001b[0m \u001b[0mi\u001b[0m\u001b[1;33m,\u001b[0m \u001b[0mnote\u001b[0m \u001b[1;32min\u001b[0m \u001b[0menumerate\u001b[0m\u001b[1;33m(\u001b[0m\u001b[0mchord\u001b[0m\u001b[1;33m.\u001b[0m\u001b[0mnotes\u001b[0m\u001b[1;33m(\u001b[0m\u001b[1;33m)\u001b[0m\u001b[1;33m)\u001b[0m\u001b[1;33m:\u001b[0m\u001b[1;33m\u001b[0m\u001b[1;33m\u001b[0m\u001b[0m\n\u001b[0;32m     14\u001b[0m                 \u001b[0mmidiout\u001b[0m\u001b[1;33m.\u001b[0m\u001b[0msend_message\u001b[0m\u001b[1;33m(\u001b[0m\u001b[1;33m[\u001b[0m\u001b[0minstrument\u001b[0m\u001b[1;33m,\u001b[0m \u001b[0mnote2MIDI\u001b[0m\u001b[1;33m(\u001b[0m\u001b[0mnote\u001b[0m\u001b[1;33m,\u001b[0m \u001b[0moctaves\u001b[0m\u001b[1;33m[\u001b[0m\u001b[0mi\u001b[0m\u001b[1;33m]\u001b[0m\u001b[1;33m)\u001b[0m\u001b[1;33m,\u001b[0m \u001b[1;36m112\u001b[0m\u001b[1;33m]\u001b[0m\u001b[1;33m)\u001b[0m\u001b[1;33m\u001b[0m\u001b[1;33m\u001b[0m\u001b[0m\n\u001b[1;32m---> 15\u001b[1;33m                 \u001b[0mtime\u001b[0m\u001b[1;33m.\u001b[0m\u001b[0msleep\u001b[0m\u001b[1;33m(\u001b[0m\u001b[0marpeggios\u001b[0m\u001b[1;33m[\u001b[0m\u001b[0mj\u001b[0m\u001b[1;33m]\u001b[0m\u001b[1;33m[\u001b[0m\u001b[0mi\u001b[0m\u001b[1;33m]\u001b[0m\u001b[1;33m)\u001b[0m\u001b[1;33m\u001b[0m\u001b[1;33m\u001b[0m\u001b[0m\n\u001b[0m\u001b[0;32m     16\u001b[0m         \u001b[0mj\u001b[0m \u001b[1;33m=\u001b[0m \u001b[0mj\u001b[0m\u001b[1;33m+\u001b[0m\u001b[1;36m1\u001b[0m\u001b[1;33m\u001b[0m\u001b[1;33m\u001b[0m\u001b[0m\n\u001b[0;32m     17\u001b[0m         \u001b[0msilence\u001b[0m \u001b[1;33m=\u001b[0m \u001b[0mchord\u001b[0m\u001b[1;33m\u001b[0m\u001b[1;33m\u001b[0m\u001b[0m\n",
      "\u001b[1;31mKeyboardInterrupt\u001b[0m: "
     ]
    }
   ],
   "source": [
    "playHarmony(chordProgression, instrumentHarmony, arpeggio)"
   ]
  },
  {
   "cell_type": "code",
   "execution_count": 23,
   "metadata": {},
   "outputs": [],
   "source": [
    "def playMelody(chordProgression, instrument, arpeggio, scale, riffmelody, playflag, times):\n",
    "    j = 0\n",
    "    for chord in chordProgression:\n",
    "        midiout.send_message([instrument, note2MIDI(chord.notes()[0], 4), 112])\n",
    "        for i in range(MELODY_DIVISIONS):\n",
    "            if playflag[j] == 1:\n",
    "                midiout.send_message([instrument, note2MIDI(riffmelody[j], 4), 112])\n",
    "            time.sleep(times[j])\n",
    "            j = (j+1)%(MELODY_DIVISIONS*2)\n",
    "            \n",
    "           \n"
   ]
  },
  {
   "cell_type": "code",
   "execution_count": 37,
   "metadata": {},
   "outputs": [
    {
     "ename": "TypeError",
     "evalue": "playMelody() missing 3 required positional arguments: 'riffmelody', 'playflag', and 'times'",
     "output_type": "error",
     "traceback": [
      "\u001b[1;31m---------------------------------------------------------------------------\u001b[0m",
      "\u001b[1;31mTypeError\u001b[0m                                 Traceback (most recent call last)",
      "\u001b[1;32m<ipython-input-37-b963c4b5e387>\u001b[0m in \u001b[0;36m<module>\u001b[1;34m\u001b[0m\n\u001b[1;32m----> 1\u001b[1;33m \u001b[0mplayMelody\u001b[0m\u001b[1;33m(\u001b[0m\u001b[0mchordProgression\u001b[0m\u001b[1;33m,\u001b[0m \u001b[0minstrumentMelody\u001b[0m\u001b[1;33m,\u001b[0m \u001b[0marpeggio\u001b[0m\u001b[1;33m,\u001b[0m \u001b[0mscale\u001b[0m\u001b[1;33m)\u001b[0m\u001b[1;33m\u001b[0m\u001b[1;33m\u001b[0m\u001b[0m\n\u001b[0m",
      "\u001b[1;31mTypeError\u001b[0m: playMelody() missing 3 required positional arguments: 'riffmelody', 'playflag', and 'times'"
     ]
    }
   ],
   "source": [
    "playMelody(chordProgression, instrumentMelody, arpeggio, scale)"
   ]
  },
  {
   "cell_type": "code",
   "execution_count": 24,
   "metadata": {},
   "outputs": [],
   "source": [
    "def playBass(chordProgression):\n",
    "    instrument = 144 + 7\n",
    "    for chord in chordProgression:\n",
    "        play = random.randint(0,1)\n",
    "        if play == 1:\n",
    "            midiout.send_message([instrument, chord.indexes()[0] + 36, 112])\n",
    "        time.sleep(T)"
   ]
  },
  {
   "cell_type": "code",
   "execution_count": 25,
   "metadata": {},
   "outputs": [],
   "source": [
    "def playDrums(chordProgression, bateria):\n",
    "    instrument = 144\n",
    "    drumflag = False\n",
    "    for chord in chordProgression:\n",
    "        if drumflag == False:\n",
    "            drumflag = True\n",
    "        else:\n",
    "            drumflag = False\n",
    "        playDrumsprimitivo(bateria, drumflag)\n"
   ]
  },
  {
   "cell_type": "code",
   "execution_count": 40,
   "metadata": {},
   "outputs": [],
   "source": [
    "playDrums(chordProgression, bateria)"
   ]
  },
  {
   "cell_type": "code",
   "execution_count": 41,
   "metadata": {},
   "outputs": [
    {
     "name": "stdout",
     "output_type": "stream",
     "text": [
      "[0.3, 2.1, 1.2000000000000002]\n"
     ]
    }
   ],
   "source": [
    "arpeggio = [element * 2 for element in arpeggio]\n",
    "print(arpeggio)"
   ]
  },
  {
   "cell_type": "code",
   "execution_count": 27,
   "metadata": {},
   "outputs": [],
   "source": [
    "def arpeggios_generator(arpeggio, Ts):\n",
    "    r = []\n",
    "    for i in range(PROGRESSION_SIZE):\n",
    "        r = r + [[j*Ts[i]/T for j in arpeggio]]\n",
    "    return r"
   ]
  },
  {
   "cell_type": "code",
   "execution_count": null,
   "metadata": {},
   "outputs": [],
   "source": []
  }
 ],
 "metadata": {
  "kernelspec": {
   "display_name": "Python 3",
   "language": "python",
   "name": "python3"
  },
  "language_info": {
   "codemirror_mode": {
    "name": "ipython",
    "version": 3
   },
   "file_extension": ".py",
   "mimetype": "text/x-python",
   "name": "python",
   "nbconvert_exporter": "python",
   "pygments_lexer": "ipython3",
   "version": "3.7.6"
  },
  "toc-autonumbering": true,
  "toc-showcode": false,
  "toc-showmarkdowntxt": false,
  "toc-showtags": false
 },
 "nbformat": 4,
 "nbformat_minor": 4
}
